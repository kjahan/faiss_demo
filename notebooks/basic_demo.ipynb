{
 "cells": [
  {
   "cell_type": "markdown",
   "id": "906fe452",
   "metadata": {},
   "source": [
    "## Faiss\n",
    "\n",
    "Demo Faiss for NN search!\n",
    "\n",
    "Faiss is a library for efficient similarity search and clustering of dense vectors. It contains algorithms that search in sets of vectors of any size, up to ones that possibly do not fit in RAM. It also contains supporting code for evaluation and parameter tuning. Faiss is written in C++ with complete wrappers for Python/numpy. Some of the most useful algorithms are implemented on the GPU. It is developed by Facebook AI Research."
   ]
  },
  {
   "cell_type": "markdown",
   "id": "0114c61e",
   "metadata": {},
   "source": [
    "## Installing Faiss via conda\n",
    "\n",
    "### CPU-only version\n",
    "\n",
    "Run the following command in terminal:\n",
    "\n",
    "`conda install -c pytorch faiss-cpu -n lang`"
   ]
  },
  {
   "cell_type": "markdown",
   "id": "bf240c4b",
   "metadata": {},
   "source": [
    "## Prepare some syntactic data\n",
    "\n",
    "https://github.com/facebookresearch/faiss/wiki/Getting-started"
   ]
  },
  {
   "cell_type": "code",
   "execution_count": 4,
   "id": "7c213828",
   "metadata": {},
   "outputs": [],
   "source": [
    "import numpy as np\n",
    "\n",
    "import faiss                   # make faiss available"
   ]
  },
  {
   "cell_type": "code",
   "execution_count": 6,
   "id": "fd3e2774",
   "metadata": {},
   "outputs": [],
   "source": [
    "d = 64                           # dimension\n",
    "nb = 100000                      # database size\n",
    "nq = 10000                       # nb of queries\n",
    "\n",
    "np.random.seed(1234)             # make reproducible\n",
    "xb = np.random.random((nb, d)).astype('float32')\n",
    "xb[:, 0] += np.arange(nb) / 1000.\n",
    "\n",
    "xq = np.random.random((nq, d)).astype('float32')\n",
    "xq[:, 0] += np.arange(nq) / 1000."
   ]
  },
  {
   "cell_type": "code",
   "execution_count": 13,
   "id": "3f1ae314",
   "metadata": {},
   "outputs": [
    {
     "data": {
      "text/plain": [
       "10.635717"
      ]
     },
     "execution_count": 13,
     "metadata": {},
     "output_type": "execute_result"
    }
   ],
   "source": [
    "xb[10000][0]"
   ]
  },
  {
   "cell_type": "markdown",
   "id": "c6535ad8",
   "metadata": {},
   "source": [
    "## Building an index and adding the vectors to it\n",
    "\n",
    "There are many types of indexes, we are going to use the simplest version that just performs brute-force L2 distance search on them: `IndexFlatL2`"
   ]
  },
  {
   "cell_type": "code",
   "execution_count": 8,
   "id": "20f95812",
   "metadata": {},
   "outputs": [
    {
     "name": "stdout",
     "output_type": "stream",
     "text": [
      "True\n",
      "100000\n"
     ]
    }
   ],
   "source": [
    "index = faiss.IndexFlatL2(d)   # build the index\n",
    "print(index.is_trained)\n",
    "index.add(xb)                  # add vectors to the index\n",
    "print(index.ntotal)\n",
    "\n",
    "assert index.ntotal == nb"
   ]
  },
  {
   "cell_type": "markdown",
   "id": "a58c5b05",
   "metadata": {},
   "source": [
    "## Searching\n",
    "\n",
    "The basic search operation that can be performed on an index is the k-nearest-neighbor search, ie. for each query vector, find its k nearest neighbors in the database."
   ]
  },
  {
   "cell_type": "code",
   "execution_count": 18,
   "id": "2a60c8eb",
   "metadata": {},
   "outputs": [
    {
     "name": "stdout",
     "output_type": "stream",
     "text": [
      "[[  0 393 363  78]\n",
      " [  1 555 277 364]\n",
      " [  2 304 101  13]\n",
      " [  3 173  18 182]\n",
      " [  4 288 370 531]]\n",
      "[[0.        7.1751733 7.207629  7.2511625]\n",
      " [0.        6.3235645 6.684581  6.7999454]\n",
      " [0.        5.7964087 6.391736  7.2815123]\n",
      " [0.        7.2779055 7.5279865 7.6628466]\n",
      " [0.        6.7638035 7.2951202 7.3688145]]\n",
      "[[ 381  207  210  477]\n",
      " [ 526  911  142   72]\n",
      " [ 838  527 1290  425]\n",
      " [ 196  184  164  359]\n",
      " [ 526  377  120  425]]\n",
      "[[ 9900 10500  9309  9831]\n",
      " [11055 10895 10812 11321]\n",
      " [11353 11103 10164  9787]\n",
      " [10571 10664 10632  9638]\n",
      " [ 9628  9554 10036  9582]]\n",
      "Time elapsed: 11.889017000000003\n"
     ]
    }
   ],
   "source": [
    "k = 4                          # we want to see 4 nearest neighbors\n",
    "D, I = index.search(xb[:5], k) # sanity check\n",
    "print(I)\n",
    "print(D)\n",
    "\n",
    "import time\n",
    "start = time.process_time()\n",
    "D, I = index.search(xq, k)     # actual search \n",
    "\n",
    "print(I[:5])                   # neighbors of the 5 first queries\n",
    "print(I[-5:])                  # neighbors of the 5 last queries\n",
    "\n",
    "print(\"Time elapsed: {}\".format(time.process_time() - start))"
   ]
  },
  {
   "cell_type": "code",
   "execution_count": null,
   "id": "3a89f598",
   "metadata": {},
   "outputs": [],
   "source": []
  }
 ],
 "metadata": {
  "kernelspec": {
   "display_name": "Python [conda env:lang] *",
   "language": "python",
   "name": "conda-env-lang-py"
  },
  "language_info": {
   "codemirror_mode": {
    "name": "ipython",
    "version": 3
   },
   "file_extension": ".py",
   "mimetype": "text/x-python",
   "name": "python",
   "nbconvert_exporter": "python",
   "pygments_lexer": "ipython3",
   "version": "3.6.12"
  }
 },
 "nbformat": 4,
 "nbformat_minor": 5
}
